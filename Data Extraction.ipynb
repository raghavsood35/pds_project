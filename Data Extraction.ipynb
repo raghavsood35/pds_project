{
 "cells": [
  {
   "cell_type": "markdown",
   "metadata": {},
   "source": [
    "Imports"
   ]
  },
  {
   "cell_type": "code",
   "execution_count": 1,
   "metadata": {},
   "outputs": [],
   "source": [
    "import requests\n",
    "import newspaper\n",
    "from newspaper import Article"
   ]
  },
  {
   "cell_type": "code",
   "execution_count": 2,
   "metadata": {},
   "outputs": [],
   "source": [
    "apiKey = 'dfcad9ffdecd497f87d021972ab75037'\n",
    "categories = ['current&affairs','technology','sports','politics','education','weather','world','entertainment',\n",
    "             'business','finance']\n",
    "articles = {}\n",
    "for category in categories: \n",
    "    url = ('https://newsapi.org/v2/everything?q='+category+'&apiKey='+apiKey+'&pageSize=100')\n",
    "    response = requests.get(url)\n",
    "    response_list = response.json().get('articles')\n",
    "    articles[category] = response_list"
   ]
  },
  {
   "cell_type": "code",
   "execution_count": 4,
   "metadata": {},
   "outputs": [],
   "source": [
    "# Getting the content of each article\n",
    "for key, values in articles.items():\n",
    "    for value in values:\n",
    "        article_url = value.get('url')\n",
    "        article = Article(article_url)\n",
    "        try:\n",
    "            article.download()\n",
    "            article.parse()\n",
    "#             article.nlp()\n",
    "            value['newspaper_content'] = article.text\n",
    "#             value['key_words'] = article.keywords\n",
    "#             value['summary'] = article.summary\n",
    "#             print(value)\n",
    "        except newspaper.article.ArticleException:\n",
    "            pass"
   ]
  },
  {
   "cell_type": "code",
   "execution_count": 15,
   "metadata": {},
   "outputs": [
    {
     "name": "stdout",
     "output_type": "stream",
     "text": [
      "{'source': {'id': 'the-new-york-times', 'name': 'The New York Times'}, 'author': 'Mariel Padilla', 'title': 'North Carolina Lawmakers Pass Bill to Close Sexual Assault Loopholes', 'description': 'Current law prevents women from revoking consent.', 'url': 'https://www.nytimes.com/2019/11/01/us/north-carolina-sexual-assault-loophole.html', 'urlToImage': 'https://static01.nyt.com/images/2019/11/01/multimedia/01xp-loophole/merlin_157049490_631f255f-d4d8-49af-aa6a-10b7d110b6dc-facebookJumbo.jpg', 'publishedAt': '2019-11-02T00:37:24Z', 'content': 'The North Carolina Coalition Against Sexual Assault, an advocacy organization for the rights of sexual assault survivors, worked with elected officials on the legislation. \\r\\nSkye David, a staff attorney with the advocacy group, said that the political dynamic… [+987 chars]', 'newspaper_content': 'For the past four decades, a loophole in North Carolina sexual assault law made it impossible for a woman to revoke consent after a sex act had begun.\\n\\nAnother loophole, a result of a 2008 court ruling, made it legal to have sex with someone who is incapacitated if that person’s condition was caused by his or her actions — like consuming drugs or alcohol.\\n\\nLawmakers in the State Senate and House of Representatives, which are both controlled by Republicans, unanimously approved a wide-ranging sexual assault bill on Thursday that would close those loopholes. Gov. Roy Cooper, a Democrat, is expected to sign it into law.\\n\\n“It’s a big win for basic decency,” said Jeff Jackson , a Democratic state senator who represents Mecklenburg County. “We’re no longer the only state in the country where a woman doesn’t have a legal right to revoke her consent.”'}\n"
     ]
    }
   ],
   "source": [
    "print(articles.get('current&affairs')[0])"
   ]
  },
  {
   "cell_type": "code",
   "execution_count": null,
   "metadata": {},
   "outputs": [],
   "source": []
  }
 ],
 "metadata": {
  "kernelspec": {
   "display_name": "Python 3",
   "language": "python",
   "name": "python3"
  },
  "language_info": {
   "codemirror_mode": {
    "name": "ipython",
    "version": 3
   },
   "file_extension": ".py",
   "mimetype": "text/x-python",
   "name": "python",
   "nbconvert_exporter": "python",
   "pygments_lexer": "ipython3",
   "version": "3.7.3"
  }
 },
 "nbformat": 4,
 "nbformat_minor": 2
}
