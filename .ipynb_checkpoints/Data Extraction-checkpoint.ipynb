{
 "cells": [
  {
   "cell_type": "markdown",
   "metadata": {},
   "source": [
    "Imports"
   ]
  },
  {
   "cell_type": "code",
   "execution_count": 1,
   "metadata": {},
   "outputs": [],
   "source": [
    "import requests\n",
    "import newspaper\n",
    "from newspaper import Article"
   ]
  },
  {
   "cell_type": "code",
   "execution_count": 2,
   "metadata": {},
   "outputs": [],
   "source": [
    "apiKey = 'dfcad9ffdecd497f87d021972ab75037'\n",
    "categories = ['current&affairs','technology','sports','politics','education','weather','world','entertainment',\n",
    "             'business','finance']\n",
    "articles = {}\n",
    "for category in categories: \n",
    "    url = ('https://newsapi.org/v2/everything?q='+category+'&apiKey='+apiKey+'&pageSize=100')\n",
    "    response = requests.get(url)\n",
    "    response_list = response.json().get('articles')\n",
    "    articles[category] = response_list"
   ]
  },
  {
   "cell_type": "code",
   "execution_count": 3,
   "metadata": {},
   "outputs": [],
   "source": [
    "# Getting the content of each article\n",
    "%timeit\n",
    "for key, values in articles.items():\n",
    "    for value in values:\n",
    "        article_url = value.get('url')\n",
    "        article = Article(article_url)\n",
    "        try:\n",
    "            article.download()\n",
    "            article.parse()\n",
    "#             article.nlp()\n",
    "            value['newspaper_content'] = article.text\n",
    "#             value['key_words'] = article.keywords\n",
    "#             value['summary'] = article.summary\n",
    "#             print(value)\n",
    "        except newspaper.article.ArticleException:\n",
    "            pass"
   ]
  },
  {
   "cell_type": "code",
   "execution_count": 4,
   "metadata": {},
   "outputs": [
    {
     "name": "stdout",
     "output_type": "stream",
     "text": [
      "{'source': {'id': None, 'name': 'Lifehacker.com'}, 'author': 'Meghan Moravcik Walbert on Offspring, shared by Meghan Moravcik Walbert to Lifehacker', 'title': 'Turn Your Old Bookcase Into a Sensory Activity Center', 'description': 'Every now and then, you move to a new home or you rearrange the room of your current home and you find yourself with a bookcase that no longer quite fits in the new or updated space. So now what do you do with it? Read more...', 'url': 'https://offspring.lifehacker.com/turn-your-old-bookcase-into-a-sensory-activity-center-1839774572', 'urlToImage': 'https://i.kinja-img.com/gawker-media/image/upload/c_fill,f_auto,fl_progressive,g_center,h_675,pg_1,q_80,w_1200/iqr7okpc3haamcrawsun.jpg', 'publishedAt': '2019-11-11T19:30:00Z', 'content': 'Every now and then, you move to a new home or you rearrange the room of your current home and you find yourself with a bookcase that no longer quite fits in the new or updated space. So now what do you do with it?\\r\\nWell, if its a really nice quality, you may … [+1801 chars]', 'newspaper_content': 'Every now and then, you move to a new home or you rearrange the room of your current home and you find yourself with a bookcase that no longer quite fits in the new or updated space. So now what do you do with it?\\n\\nWell, if it’s a really nice quality, you may want to store it to use the next time you move/rearrange in the future, or you may want to sell it or donate it. But if it’s a cheap one you bought from Ikea or Walmart because you needed something simple for that space, and you have a toddler, you may want to repurpose it—into a sensory activity center.\\n\\nAdvertisement\\n\\nWriter Megan Duesterhaus at The Homes I Have Made shows us how:\\n\\nNow, Duesterhaus went all-out. She was given the bookcase from Wayfair for a promotional project and she opted to create an outdoor sandbox, complete with colorful spray paint, plywood backing for reinforcement (because, sand) and plywood lid (because, outside). If you are up for that challenge, she offers solid instructions to walk you through the project from start to finish.\\n\\nIf you want to repurpose that shelf without going out to buy supplies or using up a whole weekend, though, you can also do this:\\n\\n1. Lay it down flat on the ground in the location of your choosing (playroom, dining room, finished basement, or wherever else your toddler plays where you can keep an eye on them).\\n\\nAdvertisement\\n\\n2. Dump in sensory materials you already have around the home. Some ideas are shredded paper, packing peanuts, bubble wrap or plastic lids from baby food pouches. You might put the materials in one or two of the compartments and some “tools,” like plastic kitchen serving spoons, ladles and tongs, into the other sections.\\n\\n(I suspect my son also would have grabbed a couple of plastic dinosaurs or action figures to jump and dive into the different materials, using them more as the setting for his imaginary play rather than the main event, which is also great.)\\n\\nAdvertisement\\n\\n3. Let them sit and play. That’s it! You’ve created a sensory bin, only on a larger, more epic scale.\\n\\nAdvertisement\\n\\nMeet the smartest parents on Earth! Join our parenting Facebook group .'}\n"
     ]
    }
   ],
   "source": [
    "print(articles.get('current&affairs')[2])"
   ]
  },
  {
   "cell_type": "code",
   "execution_count": null,
   "metadata": {},
   "outputs": [],
   "source": []
  }
 ],
 "metadata": {
  "kernelspec": {
   "display_name": "Python 3",
   "language": "python",
   "name": "python3"
  },
  "language_info": {
   "codemirror_mode": {
    "name": "ipython",
    "version": 3
   },
   "file_extension": ".py",
   "mimetype": "text/x-python",
   "name": "python",
   "nbconvert_exporter": "python",
   "pygments_lexer": "ipython3",
   "version": "3.7.3"
  }
 },
 "nbformat": 4,
 "nbformat_minor": 2
}
