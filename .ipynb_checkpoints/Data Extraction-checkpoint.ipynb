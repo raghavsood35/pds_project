{
 "cells": [
  {
   "cell_type": "markdown",
   "metadata": {},
   "source": [
    "Imports"
   ]
  },
  {
   "cell_type": "code",
   "execution_count": 1,
   "metadata": {},
   "outputs": [],
   "source": [
    "import requests\n",
    "import newspaper\n",
    "from newspaper import Article"
   ]
  },
  {
   "cell_type": "code",
   "execution_count": 2,
   "metadata": {},
   "outputs": [],
   "source": [
    "apiKey = 'dfcad9ffdecd497f87d021972ab75037'\n",
    "categories = ['current&affairs','technology','sports','politics','education','weather','world','entertainment',\n",
    "             'business','finance']\n",
    "articles = {}\n",
    "for category in categories: \n",
    "    url = ('https://newsapi.org/v2/everything?q='+category+'&apiKey='+apiKey+'&pageSize=100')\n",
    "    response = requests.get(url)\n",
    "    response_list = response.json().get('articles')\n",
    "    articles[category] = response_list"
   ]
  },
  {
   "cell_type": "code",
   "execution_count": null,
   "metadata": {},
   "outputs": [],
   "source": [
    "# Getting the content of each article\n",
    "for key, values in articles.items():\n",
    "    for value in values:\n",
    "        article_url = value.get('url')\n",
    "        article = Article(article_url)\n",
    "        try:\n",
    "            article.download()\n",
    "            article.parse()\n",
    "#             article.nlp()\n",
    "            value['newspaper_content'] = article.text\n",
    "#             value['key_words'] = article.keywords\n",
    "#             value['summary'] = article.summary\n",
    "#             print(value)\n",
    "        except newspaper.article.ArticleException:\n",
    "            pass"
   ]
  },
  {
   "cell_type": "code",
   "execution_count": null,
   "metadata": {},
   "outputs": [],
   "source": [
    "print(articles.get('current&affairs')[2])"
   ]
  },
  {
   "cell_type": "code",
   "execution_count": null,
   "metadata": {},
   "outputs": [],
   "source": []
  }
 ],
 "metadata": {
  "kernelspec": {
   "display_name": "Python 3",
   "language": "python",
   "name": "python3"
  },
  "language_info": {
   "codemirror_mode": {
    "name": "ipython",
    "version": 3
   },
   "file_extension": ".py",
   "mimetype": "text/x-python",
   "name": "python",
   "nbconvert_exporter": "python",
   "pygments_lexer": "ipython3",
   "version": "3.7.3"
  }
 },
 "nbformat": 4,
 "nbformat_minor": 2
}
